version https://git-lfs.github.com/spec/v1
oid sha256:e6546ddd1dac9c192feb23acf9d5cd65cacc8248f9626e55f982675de4cd39f7
size 105571
