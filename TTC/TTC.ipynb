version https://git-lfs.github.com/spec/v1
oid sha256:9d620ec1a8dde7a7dff9e7c22ca8473262ab2c1548c672482d87b230b51acf03
size 12711
