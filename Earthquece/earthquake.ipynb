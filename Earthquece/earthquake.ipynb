version https://git-lfs.github.com/spec/v1
oid sha256:b96dd42acf5f57d86e00447f2b2409aa1f8754df51d5694af0b03cc573da2d7b
size 113062
