{
 "cells": [
  {
   "cell_type": "code",
   "execution_count": 1,
   "metadata": {},
   "outputs": [],
   "source": [
    "# Import libraries\n",
    "import pandas as pd\n",
    "import matplotlib.pyplot as plt\n",
    "import seaborn as sns"
   ]
  },
  {
   "cell_type": "code",
   "execution_count": 2,
   "metadata": {},
   "outputs": [
    {
     "name": "stderr",
     "output_type": "stream",
     "text": [
      "C:\\Users\\Owner\\AppData\\Local\\Temp\\ipykernel_40600\\2434425709.py:2: DtypeWarning: Columns (21) have mixed types. Specify dtype option on import or set low_memory=False.\n",
      "  data = pd.read_csv(\"data.csv\")\n"
     ]
    },
    {
     "data": {
      "text/html": [
       "<div>\n",
       "<style scoped>\n",
       "    .dataframe tbody tr th:only-of-type {\n",
       "        vertical-align: middle;\n",
       "    }\n",
       "\n",
       "    .dataframe tbody tr th {\n",
       "        vertical-align: top;\n",
       "    }\n",
       "\n",
       "    .dataframe thead th {\n",
       "        text-align: right;\n",
       "    }\n",
       "</style>\n",
       "<table border=\"1\" class=\"dataframe\">\n",
       "  <thead>\n",
       "    <tr style=\"text-align: right;\">\n",
       "      <th></th>\n",
       "      <th>network_code</th>\n",
       "      <th>receiver_code</th>\n",
       "      <th>receiver_type</th>\n",
       "      <th>receiver_latitude</th>\n",
       "      <th>receiver_longitude</th>\n",
       "      <th>receiver_elevation_m</th>\n",
       "      <th>p_arrival_sample</th>\n",
       "      <th>p_status</th>\n",
       "      <th>p_weight</th>\n",
       "      <th>p_travel_sec</th>\n",
       "      <th>...</th>\n",
       "      <th>source_magnitude_author</th>\n",
       "      <th>source_mechanism_strike_dip_rake</th>\n",
       "      <th>source_distance_deg</th>\n",
       "      <th>source_distance_km</th>\n",
       "      <th>back_azimuth_deg</th>\n",
       "      <th>snr_db</th>\n",
       "      <th>coda_end_sample</th>\n",
       "      <th>trace_start_time</th>\n",
       "      <th>trace_category</th>\n",
       "      <th>trace_name</th>\n",
       "    </tr>\n",
       "  </thead>\n",
       "  <tbody>\n",
       "    <tr>\n",
       "      <th>0</th>\n",
       "      <td>TA</td>\n",
       "      <td>109C</td>\n",
       "      <td>BH</td>\n",
       "      <td>32.8889</td>\n",
       "      <td>-117.1051</td>\n",
       "      <td>150.0</td>\n",
       "      <td>700.0</td>\n",
       "      <td>manual</td>\n",
       "      <td>0.5</td>\n",
       "      <td>17.080000</td>\n",
       "      <td>...</td>\n",
       "      <td>None</td>\n",
       "      <td>None</td>\n",
       "      <td>0.92</td>\n",
       "      <td>102.09</td>\n",
       "      <td>159.3</td>\n",
       "      <td>[56.79999924 55.40000153 47.40000153]</td>\n",
       "      <td>[[2896.]]</td>\n",
       "      <td>2006-07-23 15:59:00.960000</td>\n",
       "      <td>earthquake_local</td>\n",
       "      <td>109C.TA_20060723155859_EV</td>\n",
       "    </tr>\n",
       "    <tr>\n",
       "      <th>1</th>\n",
       "      <td>TA</td>\n",
       "      <td>109C</td>\n",
       "      <td>BH</td>\n",
       "      <td>32.8889</td>\n",
       "      <td>-117.1051</td>\n",
       "      <td>150.0</td>\n",
       "      <td>600.0</td>\n",
       "      <td>manual</td>\n",
       "      <td>0.5</td>\n",
       "      <td>16.879999</td>\n",
       "      <td>...</td>\n",
       "      <td>None</td>\n",
       "      <td>None</td>\n",
       "      <td>0.91</td>\n",
       "      <td>101.34</td>\n",
       "      <td>281.7</td>\n",
       "      <td>[65.         65.5        61.40000153]</td>\n",
       "      <td>[[5508.]]</td>\n",
       "      <td>2006-11-03 15:56:53.610000</td>\n",
       "      <td>earthquake_local</td>\n",
       "      <td>109C.TA_20061103155652_EV</td>\n",
       "    </tr>\n",
       "    <tr>\n",
       "      <th>2</th>\n",
       "      <td>TA</td>\n",
       "      <td>109C</td>\n",
       "      <td>BH</td>\n",
       "      <td>32.8889</td>\n",
       "      <td>-117.1051</td>\n",
       "      <td>150.0</td>\n",
       "      <td>500.0</td>\n",
       "      <td>manual</td>\n",
       "      <td>0.5</td>\n",
       "      <td>17.260000</td>\n",
       "      <td>...</td>\n",
       "      <td>None</td>\n",
       "      <td>None</td>\n",
       "      <td>0.92</td>\n",
       "      <td>101.87</td>\n",
       "      <td>280.5</td>\n",
       "      <td>[37.20000076 42.         38.59999847]</td>\n",
       "      <td>[[3114.]]</td>\n",
       "      <td>2006-11-03 16:12:24.700000</td>\n",
       "      <td>earthquake_local</td>\n",
       "      <td>109C.TA_20061103161223_EV</td>\n",
       "    </tr>\n",
       "  </tbody>\n",
       "</table>\n",
       "<p>3 rows × 35 columns</p>\n",
       "</div>"
      ],
      "text/plain": [
       "  network_code receiver_code receiver_type  receiver_latitude  \\\n",
       "0           TA          109C            BH            32.8889   \n",
       "1           TA          109C            BH            32.8889   \n",
       "2           TA          109C            BH            32.8889   \n",
       "\n",
       "   receiver_longitude  receiver_elevation_m  p_arrival_sample p_status  \\\n",
       "0           -117.1051                 150.0             700.0   manual   \n",
       "1           -117.1051                 150.0             600.0   manual   \n",
       "2           -117.1051                 150.0             500.0   manual   \n",
       "\n",
       "   p_weight  p_travel_sec  ...  source_magnitude_author  \\\n",
       "0       0.5     17.080000  ...                     None   \n",
       "1       0.5     16.879999  ...                     None   \n",
       "2       0.5     17.260000  ...                     None   \n",
       "\n",
       "  source_mechanism_strike_dip_rake  source_distance_deg source_distance_km  \\\n",
       "0                             None                 0.92             102.09   \n",
       "1                             None                 0.91             101.34   \n",
       "2                             None                 0.92             101.87   \n",
       "\n",
       "  back_azimuth_deg                                 snr_db  coda_end_sample  \\\n",
       "0            159.3  [56.79999924 55.40000153 47.40000153]        [[2896.]]   \n",
       "1            281.7  [65.         65.5        61.40000153]        [[5508.]]   \n",
       "2            280.5  [37.20000076 42.         38.59999847]        [[3114.]]   \n",
       "\n",
       "             trace_start_time    trace_category                 trace_name  \n",
       "0  2006-07-23 15:59:00.960000  earthquake_local  109C.TA_20060723155859_EV  \n",
       "1  2006-11-03 15:56:53.610000  earthquake_local  109C.TA_20061103155652_EV  \n",
       "2  2006-11-03 16:12:24.700000  earthquake_local  109C.TA_20061103161223_EV  \n",
       "\n",
       "[3 rows x 35 columns]"
      ]
     },
     "execution_count": 2,
     "metadata": {},
     "output_type": "execute_result"
    }
   ],
   "source": [
    "# Load data\n",
    "data = pd.read_csv(\"data.csv\")\n",
    "data.head(3)"
   ]
  },
  {
   "cell_type": "code",
   "execution_count": 3,
   "metadata": {},
   "outputs": [
    {
     "data": {
      "text/plain": [
       "network_code                         object\n",
       "receiver_code                        object\n",
       "receiver_type                        object\n",
       "receiver_latitude                   float64\n",
       "receiver_longitude                  float64\n",
       "receiver_elevation_m                float64\n",
       "p_arrival_sample                    float64\n",
       "p_status                             object\n",
       "p_weight                            float64\n",
       "p_travel_sec                        float64\n",
       "s_arrival_sample                    float64\n",
       "s_status                             object\n",
       "s_weight                            float64\n",
       "source_id                            object\n",
       "source_origin_time                   object\n",
       "source_origin_uncertainty_sec        object\n",
       "source_latitude                     float64\n",
       "source_longitude                    float64\n",
       "source_error_sec                     object\n",
       "source_gap_deg                       object\n",
       "source_horizontal_uncertainty_km     object\n",
       "source_depth_km                      object\n",
       "source_depth_uncertainty_km          object\n",
       "source_magnitude                    float64\n",
       "source_magnitude_type                object\n",
       "source_magnitude_author              object\n",
       "source_mechanism_strike_dip_rake     object\n",
       "source_distance_deg                 float64\n",
       "source_distance_km                  float64\n",
       "back_azimuth_deg                    float64\n",
       "snr_db                               object\n",
       "coda_end_sample                      object\n",
       "trace_start_time                     object\n",
       "trace_category                       object\n",
       "trace_name                           object\n",
       "dtype: object"
      ]
     },
     "execution_count": 3,
     "metadata": {},
     "output_type": "execute_result"
    }
   ],
   "source": [
    "data.dtypes"
   ]
  },
  {
   "cell_type": "markdown",
   "metadata": {},
   "source": [
    "data analytics start"
   ]
  },
  {
   "cell_type": "code",
   "execution_count": 4,
   "metadata": {},
   "outputs": [
    {
     "data": {
      "text/plain": [
       "(200000, 35)"
      ]
     },
     "execution_count": 4,
     "metadata": {},
     "output_type": "execute_result"
    }
   ],
   "source": [
    "data.shape"
   ]
  },
  {
   "cell_type": "code",
   "execution_count": 5,
   "metadata": {},
   "outputs": [
    {
     "data": {
      "text/html": [
       "<div>\n",
       "<style scoped>\n",
       "    .dataframe tbody tr th:only-of-type {\n",
       "        vertical-align: middle;\n",
       "    }\n",
       "\n",
       "    .dataframe tbody tr th {\n",
       "        vertical-align: top;\n",
       "    }\n",
       "\n",
       "    .dataframe thead th {\n",
       "        text-align: right;\n",
       "    }\n",
       "</style>\n",
       "<table border=\"1\" class=\"dataframe\">\n",
       "  <thead>\n",
       "    <tr style=\"text-align: right;\">\n",
       "      <th></th>\n",
       "      <th>receiver_latitude</th>\n",
       "      <th>receiver_longitude</th>\n",
       "      <th>receiver_elevation_m</th>\n",
       "      <th>p_arrival_sample</th>\n",
       "      <th>p_weight</th>\n",
       "      <th>p_travel_sec</th>\n",
       "      <th>s_arrival_sample</th>\n",
       "      <th>s_weight</th>\n",
       "      <th>source_latitude</th>\n",
       "      <th>source_longitude</th>\n",
       "      <th>source_magnitude</th>\n",
       "      <th>source_distance_deg</th>\n",
       "      <th>source_distance_km</th>\n",
       "      <th>back_azimuth_deg</th>\n",
       "    </tr>\n",
       "  </thead>\n",
       "  <tbody>\n",
       "    <tr>\n",
       "      <th>count</th>\n",
       "      <td>200000.000000</td>\n",
       "      <td>200000.000000</td>\n",
       "      <td>200000.000000</td>\n",
       "      <td>200000.000000</td>\n",
       "      <td>199937.000000</td>\n",
       "      <td>200000.000000</td>\n",
       "      <td>200000.000000</td>\n",
       "      <td>199943.000000</td>\n",
       "      <td>200000.000000</td>\n",
       "      <td>200000.000000</td>\n",
       "      <td>200000.000000</td>\n",
       "      <td>200000.000000</td>\n",
       "      <td>200000.000000</td>\n",
       "      <td>200000.000000</td>\n",
       "    </tr>\n",
       "    <tr>\n",
       "      <th>mean</th>\n",
       "      <td>33.734235</td>\n",
       "      <td>-112.090444</td>\n",
       "      <td>1103.642794</td>\n",
       "      <td>661.487463</td>\n",
       "      <td>0.681587</td>\n",
       "      <td>7.387482</td>\n",
       "      <td>1204.963810</td>\n",
       "      <td>0.617248</td>\n",
       "      <td>33.714834</td>\n",
       "      <td>-112.803658</td>\n",
       "      <td>1.328498</td>\n",
       "      <td>0.370168</td>\n",
       "      <td>41.153621</td>\n",
       "      <td>196.981775</td>\n",
       "    </tr>\n",
       "    <tr>\n",
       "      <th>std</th>\n",
       "      <td>11.099382</td>\n",
       "      <td>43.044915</td>\n",
       "      <td>540.861686</td>\n",
       "      <td>181.186588</td>\n",
       "      <td>0.183430</td>\n",
       "      <td>5.682846</td>\n",
       "      <td>474.465309</td>\n",
       "      <td>0.213330</td>\n",
       "      <td>11.079471</td>\n",
       "      <td>41.098881</td>\n",
       "      <td>0.848106</td>\n",
       "      <td>0.334725</td>\n",
       "      <td>37.184304</td>\n",
       "      <td>96.340051</td>\n",
       "    </tr>\n",
       "    <tr>\n",
       "      <th>min</th>\n",
       "      <td>-33.204700</td>\n",
       "      <td>-174.197500</td>\n",
       "      <td>0.000000</td>\n",
       "      <td>22.000000</td>\n",
       "      <td>0.000000</td>\n",
       "      <td>0.000000</td>\n",
       "      <td>190.000000</td>\n",
       "      <td>0.000000</td>\n",
       "      <td>-33.313400</td>\n",
       "      <td>-179.996500</td>\n",
       "      <td>-0.100000</td>\n",
       "      <td>0.000000</td>\n",
       "      <td>0.000000</td>\n",
       "      <td>0.000000</td>\n",
       "    </tr>\n",
       "    <tr>\n",
       "      <th>25%</th>\n",
       "      <td>33.598182</td>\n",
       "      <td>-120.424800</td>\n",
       "      <td>775.400000</td>\n",
       "      <td>500.000000</td>\n",
       "      <td>0.590000</td>\n",
       "      <td>3.420000</td>\n",
       "      <td>900.000000</td>\n",
       "      <td>0.560000</td>\n",
       "      <td>33.468670</td>\n",
       "      <td>-120.452168</td>\n",
       "      <td>0.710000</td>\n",
       "      <td>0.144300</td>\n",
       "      <td>16.050000</td>\n",
       "      <td>129.900000</td>\n",
       "    </tr>\n",
       "    <tr>\n",
       "      <th>50%</th>\n",
       "      <td>33.611570</td>\n",
       "      <td>-116.596005</td>\n",
       "      <td>1271.000000</td>\n",
       "      <td>698.000000</td>\n",
       "      <td>0.630000</td>\n",
       "      <td>5.670000</td>\n",
       "      <td>1113.000000</td>\n",
       "      <td>0.590000</td>\n",
       "      <td>33.662332</td>\n",
       "      <td>-116.745833</td>\n",
       "      <td>1.120000</td>\n",
       "      <td>0.279900</td>\n",
       "      <td>31.110000</td>\n",
       "      <td>186.100000</td>\n",
       "    </tr>\n",
       "    <tr>\n",
       "      <th>75%</th>\n",
       "      <td>35.831000</td>\n",
       "      <td>-116.456370</td>\n",
       "      <td>1392.000000</td>\n",
       "      <td>800.000000</td>\n",
       "      <td>0.880000</td>\n",
       "      <td>9.560000</td>\n",
       "      <td>1392.000000</td>\n",
       "      <td>0.770000</td>\n",
       "      <td>35.751000</td>\n",
       "      <td>-116.453333</td>\n",
       "      <td>1.750000</td>\n",
       "      <td>0.495625</td>\n",
       "      <td>55.080000</td>\n",
       "      <td>290.800000</td>\n",
       "    </tr>\n",
       "    <tr>\n",
       "      <th>max</th>\n",
       "      <td>65.616000</td>\n",
       "      <td>179.300000</td>\n",
       "      <td>2894.000000</td>\n",
       "      <td>2261.000000</td>\n",
       "      <td>1.000000</td>\n",
       "      <td>55.910000</td>\n",
       "      <td>5644.000000</td>\n",
       "      <td>1.000000</td>\n",
       "      <td>67.271100</td>\n",
       "      <td>179.996000</td>\n",
       "      <td>6.500000</td>\n",
       "      <td>3.000000</td>\n",
       "      <td>334.150000</td>\n",
       "      <td>360.000000</td>\n",
       "    </tr>\n",
       "  </tbody>\n",
       "</table>\n",
       "</div>"
      ],
      "text/plain": [
       "       receiver_latitude  receiver_longitude  receiver_elevation_m  \\\n",
       "count      200000.000000       200000.000000         200000.000000   \n",
       "mean           33.734235         -112.090444           1103.642794   \n",
       "std            11.099382           43.044915            540.861686   \n",
       "min           -33.204700         -174.197500              0.000000   \n",
       "25%            33.598182         -120.424800            775.400000   \n",
       "50%            33.611570         -116.596005           1271.000000   \n",
       "75%            35.831000         -116.456370           1392.000000   \n",
       "max            65.616000          179.300000           2894.000000   \n",
       "\n",
       "       p_arrival_sample       p_weight   p_travel_sec  s_arrival_sample  \\\n",
       "count     200000.000000  199937.000000  200000.000000     200000.000000   \n",
       "mean         661.487463       0.681587       7.387482       1204.963810   \n",
       "std          181.186588       0.183430       5.682846        474.465309   \n",
       "min           22.000000       0.000000       0.000000        190.000000   \n",
       "25%          500.000000       0.590000       3.420000        900.000000   \n",
       "50%          698.000000       0.630000       5.670000       1113.000000   \n",
       "75%          800.000000       0.880000       9.560000       1392.000000   \n",
       "max         2261.000000       1.000000      55.910000       5644.000000   \n",
       "\n",
       "            s_weight  source_latitude  source_longitude  source_magnitude  \\\n",
       "count  199943.000000    200000.000000     200000.000000     200000.000000   \n",
       "mean        0.617248        33.714834       -112.803658          1.328498   \n",
       "std         0.213330        11.079471         41.098881          0.848106   \n",
       "min         0.000000       -33.313400       -179.996500         -0.100000   \n",
       "25%         0.560000        33.468670       -120.452168          0.710000   \n",
       "50%         0.590000        33.662332       -116.745833          1.120000   \n",
       "75%         0.770000        35.751000       -116.453333          1.750000   \n",
       "max         1.000000        67.271100        179.996000          6.500000   \n",
       "\n",
       "       source_distance_deg  source_distance_km  back_azimuth_deg  \n",
       "count        200000.000000       200000.000000     200000.000000  \n",
       "mean              0.370168           41.153621        196.981775  \n",
       "std               0.334725           37.184304         96.340051  \n",
       "min               0.000000            0.000000          0.000000  \n",
       "25%               0.144300           16.050000        129.900000  \n",
       "50%               0.279900           31.110000        186.100000  \n",
       "75%               0.495625           55.080000        290.800000  \n",
       "max               3.000000          334.150000        360.000000  "
      ]
     },
     "execution_count": 5,
     "metadata": {},
     "output_type": "execute_result"
    }
   ],
   "source": [
    "data.describe()"
   ]
  },
  {
   "cell_type": "code",
   "execution_count": 6,
   "metadata": {},
   "outputs": [
    {
     "data": {
      "text/plain": [
       "<AxesSubplot:title={'center':'Unique values'}>"
      ]
     },
     "execution_count": 6,
     "metadata": {},
     "output_type": "execute_result"
    },
    {
     "data": {
      "image/png": "[encoded data removed]",
      "text/plain": [
       "<Figure size 1600x200 with 1 Axes>"
      ]
     },
     "metadata": {},
     "output_type": "display_data"
    }
   ],
   "source": [
    "# Missing values\n",
    "null_value_col = data.columns[data.isna().any()]\n",
    "null_value = data[null_value_col].isnull().sum()\n",
    "null_value.plot(kind='barh', figsize=(16, 2), title='Unique values')"
   ]
  },
  {
   "cell_type": "code",
   "execution_count": 7,
   "metadata": {},
   "outputs": [
    {
     "data": {
      "text/plain": [
       "p_weight                         float64\n",
       "s_weight                         float64\n",
       "source_origin_uncertainty_sec     object\n",
       "source_error_sec                  object\n",
       "source_gap_deg                    object\n",
       "dtype: object"
      ]
     },
     "execution_count": 7,
     "metadata": {},
     "output_type": "execute_result"
    }
   ],
   "source": [
    "data[null_value_col].dtypes"
   ]
  },
  {
   "cell_type": "code",
   "execution_count": 8,
   "metadata": {},
   "outputs": [],
   "source": [
    "# Handle float values\n",
    "def handle_float_missing_value():\n",
    "    print('aa')"
   ]
  },
  {
   "cell_type": "code",
   "execution_count": 9,
   "metadata": {},
   "outputs": [
    {
     "name": "stdout",
     "output_type": "stream",
     "text": [
      "Int value column:  []\n",
      "\n",
      "Float value column:  ['receiver_latitude', 'receiver_longitude', 'receiver_elevation_m', 'p_arrival_sample', 'p_weight', 'p_travel_sec', 's_arrival_sample', 's_weight', 'source_latitude', 'source_longitude', 'source_magnitude', 'source_distance_deg', 'source_distance_km', 'back_azimuth_deg']\n",
      "\n",
      "Object value column:  ['network_code', 'receiver_code', 'receiver_type', 'p_status', 's_status', 'source_id', 'source_origin_time', 'source_origin_uncertainty_sec', 'source_error_sec', 'source_gap_deg', 'source_horizontal_uncertainty_km', 'source_depth_km', 'source_depth_uncertainty_km', 'source_magnitude_type', 'source_magnitude_author', 'source_mechanism_strike_dip_rake', 'snr_db', 'coda_end_sample', 'trace_start_time', 'trace_category', 'trace_name']\n",
      "\n"
     ]
    }
   ],
   "source": [
    "# seperate columns based on dtypes\n",
    "int_data = data.select_dtypes(include='int').columns.tolist()\n",
    "float_data = data.select_dtypes(include='float64').columns.tolist()\n",
    "object_data = data.select_dtypes(include='object').columns.tolist()\n",
    "\n",
    "print(\"Int value column: \", int_data)\n",
    "print(\"\")\n",
    "print(\"Float value column: \", float_data)\n",
    "print(\"\")\n",
    "print(\"Object value column: \", object_data)\n",
    "print(\"\")"
   ]
  },
  {
   "cell_type": "code",
   "execution_count": 10,
   "metadata": {},
   "outputs": [
    {
     "name": "stdout",
     "output_type": "stream",
     "text": [
      "Total duplicate values in dataset:  0\n"
     ]
    }
   ],
   "source": [
    "# Check duplicate values into data\n",
    "dup_value = data.duplicated(keep='last').sum()\n",
    "print(\"Total duplicate values in dataset: \", dup_value)"
   ]
  },
  {
   "cell_type": "code",
   "execution_count": 13,
   "metadata": {},
   "outputs": [
    {
     "data": {
      "text/plain": [
       "0         0.47\n",
       "1         0.24\n",
       "2         0.27\n",
       "3         0.25\n",
       "4         0.67\n",
       "          ... \n",
       "199995     NaN\n",
       "199996     NaN\n",
       "199997     NaN\n",
       "199998     NaN\n",
       "199999     NaN\n",
       "Name: source_origin_uncertainty_sec, Length: 200000, dtype: object"
      ]
     },
     "execution_count": 13,
     "metadata": {},
     "output_type": "execute_result"
    }
   ],
   "source": [
    "data['source_origin_uncertainty_sec']"
   ]
  }
 ],
 "metadata": {
  "kernelspec": {
   "display_name": "base",
   "language": "python",
   "name": "python3"
  },
  "language_info": {
   "codemirror_mode": {
    "name": "ipython",
    "version": 3
   },
   "file_extension": ".py",
   "mimetype": "text/x-python",
   "name": "python",
   "nbconvert_exporter": "python",
   "pygments_lexer": "ipython3",
   "version": "3.9.13"
  }
 },
 "nbformat": 4,
 "nbformat_minor": 2
}
