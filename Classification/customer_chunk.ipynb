version https://git-lfs.github.com/spec/v1
oid sha256:62bca9c9066b0258aba987cff5105220f3c284d64deb8be97e55061b4f9f4ab3
size 708
