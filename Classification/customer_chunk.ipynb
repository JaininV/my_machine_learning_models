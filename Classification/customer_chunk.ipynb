version https://git-lfs.github.com/spec/v1
oid sha256:446219a50c2b7c7f36030facf099d8a73710ae5fba3b615a0f6ee6245c201072
size 672
