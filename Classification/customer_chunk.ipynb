version https://git-lfs.github.com/spec/v1
oid sha256:a24ff95aec400663a100bb9a93e411be5d95f07511ed531e65dcfa93cac05c6d
size 9138
