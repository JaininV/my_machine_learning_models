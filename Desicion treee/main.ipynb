version https://git-lfs.github.com/spec/v1
oid sha256:b301e28c766b99b792b7f8525327b85a6c840ddfeb2c63b277d52a01f0a7e94d
size 928
